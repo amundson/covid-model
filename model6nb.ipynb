{
 "cells": [
  {
   "cell_type": "code",
   "execution_count": null,
   "metadata": {},
   "outputs": [],
   "source": [
    "import pandas as pd\n",
    "import numpy as np\n",
    "from numba import jit"
   ]
  },
  {
   "cell_type": "code",
   "execution_count": null,
   "metadata": {},
   "outputs": [],
   "source": [
    "us = pd.read_csv('../covid-19-data/us.csv', parse_dates=['date'])"
   ]
  },
  {
   "cell_type": "code",
   "execution_count": null,
   "metadata": {},
   "outputs": [],
   "source": [
    "from matplotlib import pyplot as plt\n",
    "plt.rcParams[\"figure.figsize\"] = (16,9)\n",
    "plt.rcParams['figure.max_open_warning'] = 0"
   ]
  },
  {
   "cell_type": "code",
   "execution_count": null,
   "metadata": {},
   "outputs": [],
   "source": [
    "dates = us['date']\n",
    "us_daily_cases = us['cases'].diff().fillna(0)\n",
    "us_daily_deaths = us['deaths'].diff().fillna(0)"
   ]
  },
  {
   "cell_type": "code",
   "execution_count": null,
   "metadata": {},
   "outputs": [],
   "source": [
    "may31 = 496\n",
    "dates[may31]"
   ]
  },
  {
   "cell_type": "code",
   "execution_count": null,
   "metadata": {},
   "outputs": [],
   "source": [
    "fig, ax1 = plt.subplots()\n",
    "ax2 = ax1.twinx()\n",
    "ax1.set_ylabel('daily cases (rolling 7-day average)')\n",
    "ax2.set_ylabel('daily deaths (rolling 7-day average)')\n",
    "\n",
    "p = ax1.plot(dates,us_daily_cases.rolling(7).mean(),color='orange')\n",
    "p = ax2.plot(dates,us_daily_deaths.rolling(7).mean(), color='blue')"
   ]
  },
  {
   "cell_type": "code",
   "execution_count": null,
   "metadata": {},
   "outputs": [],
   "source": [
    "from math import pi, exp, sqrt, log\n",
    "from scipy.optimize import curve_fit"
   ]
  },
  {
   "cell_type": "code",
   "execution_count": null,
   "metadata": {},
   "outputs": [],
   "source": [
    "@jit(nopython=True)\n",
    "def gauss(x, mu, sigma):\n",
    "    # normalized to unit integral\n",
    "    norm = 1.0/(sigma * sqrt(2*pi))\n",
    "    arg = -0.5 * ((x - mu)/sigma)**2\n",
    "    return norm * exp(arg)"
   ]
  },
  {
   "cell_type": "code",
   "execution_count": null,
   "metadata": {},
   "outputs": [],
   "source": [
    "@jit(nopython=True)\n",
    "def normfn(i, norm1, norm1_end, norm2, norm2_end, norm3, norm3_end, norm4, norm4_end, norm5):\n",
    "    if i < norm1_end:\n",
    "#        return (norm2 - norm1)/norm1_end * i + norm1\n",
    "        return norm1\n",
    "    elif i < norm2_end:\n",
    "        return (norm3 - norm2)/(norm2_end - norm1_end) * (i - norm1_end) + norm2\n",
    "    elif i < norm3_end:\n",
    "        return (norm4 - norm3)/(norm3_end - norm2_end) * (i - norm2_end) + norm3\n",
    "    elif i < norm4_end:\n",
    "        return (norm5 - norm4)/(norm4_end - norm3_end) * (i - norm3_end) + norm4\n",
    "    else:\n",
    "        return norm5"
   ]
  },
  {
   "cell_type": "code",
   "execution_count": null,
   "metadata": {},
   "outputs": [],
   "source": [
    "@jit(nopython=True)\n",
    "def full_model(newcases, norm1, norm1_end, norm2, norm2_end, norm3, norm3_end, norm4, norm4_end, norm5, offset, width):\n",
    "    num = len(newcases)\n",
    "    retval = np.zeros(num, np.float64)\n",
    "    for i in range(0, num):\n",
    "        for j in range(1, i):\n",
    "            retval[i] += newcases[j] * normfn(j, norm1, norm1_end, norm2, norm2_end, norm3, norm3_end, norm4, norm4_end, norm5) * gauss(i-j, offset, width)\n",
    "    return retval"
   ]
  },
  {
   "cell_type": "code",
   "execution_count": null,
   "metadata": {},
   "outputs": [],
   "source": [
    "norm1_end = 75\n",
    "norm2_end = 150\n",
    "norm3_end = 200\n",
    "norm4_end = may31\n",
    "sigma = 18\n",
    "@jit(nopython=True)\n",
    "def model1(newcases, norm1, norm2, norm3, norm4, norm5, offset):\n",
    "    global norm1_end, norm2_end, norm3_end, norm4_end, sigma\n",
    "    return full_model(newcases, norm1, norm1_end, norm2, norm2_end, norm3, norm3_end, norm4, norm4_end, norm5, offset, sigma)"
   ]
  },
  {
   "cell_type": "code",
   "execution_count": null,
   "metadata": {},
   "outputs": [],
   "source": [
    "def us_fit(dates, daily_cases, daily_deaths, plot=True):\n",
    "    sigma = np.ones(len(daily_cases))\n",
    "    sigma[0:150] = 10\n",
    "    #popt, pcov = curve_fit(model1, dc, dd, [10, 0.1, 0.1, 0.002, 0.002, 18], sigma)\n",
    "    popt, pcov = curve_fit(model1, daily_cases.to_numpy(), daily_deaths.to_numpy(),\n",
    "        [10, 0.1, 0.1, 0.002, 0.002, 18], sigma)\n",
    "    if plot:\n",
    "        fig, ax = plt.subplots()\n",
    "        ax.plot(dates, daily_deaths.rolling(7).mean(), color='blue', label='observed deaths')\n",
    "        ax.plot(dates, model1(daily_cases.to_numpy(), *popt), color='red', label='model deaths')\n",
    "        ax.axvspan(dates[0], dates[149], alpha=0.2)\n",
    "    return popt, pcov"
   ]
  },
  {
   "cell_type": "code",
   "execution_count": null,
   "metadata": {},
   "outputs": [],
   "source": [
    "len(us_daily_cases)"
   ]
  },
  {
   "cell_type": "code",
   "execution_count": null,
   "metadata": {},
   "outputs": [],
   "source": [
    "fitend = 400\n",
    "popt, pcov = us_fit(dates[:fitend], us_daily_cases[:fitend], us_daily_deaths[:fitend])"
   ]
  },
  {
   "cell_type": "code",
   "execution_count": null,
   "metadata": {},
   "outputs": [],
   "source": [
    "popt"
   ]
  },
  {
   "cell_type": "code",
   "execution_count": null,
   "metadata": {},
   "outputs": [],
   "source": [
    "perr = np.sqrt(np.diag(pcov))\n",
    "perr"
   ]
  },
  {
   "cell_type": "code",
   "execution_count": null,
   "metadata": {},
   "outputs": [],
   "source": [
    "plt.plot(dates, \n",
    "    [normfn(i, popt[0], norm1_end, popt[1], norm2_end, popt[2], norm3_end, popt[3], norm4_end, popt[4]) for i in range(0, len(dates))]);"
   ]
  },
  {
   "cell_type": "code",
   "execution_count": null,
   "metadata": {},
   "outputs": [],
   "source": [
    "fig, ax = plt.subplots()\n",
    "ax.plot(dates, us_daily_deaths.rolling(7).mean(), color='blue', label='observed deaths')\n",
    "ax.plot(dates, model1(np.array(us_daily_cases), *popt), color='red', label='model deaths')\n",
    "ax.axvspan(dates[0], dates[149], alpha=0.2)\n",
    "\n"
   ]
  },
  {
   "cell_type": "code",
   "execution_count": null,
   "metadata": {},
   "outputs": [],
   "source": [
    "indices = range(0, len(dates))\n",
    "past_days = 15\n",
    "start_recent = len(dates) - past_days\n",
    "recent_dates = dates[start_recent:]\n",
    "recent_indices = indices[start_recent:]\n",
    "recent_smooth_cases = us_daily_cases.rolling(7).mean()[start_recent:]\n",
    "log_recent_smooth_cases = [log(x) for x in recent_smooth_cases]"
   ]
  },
  {
   "cell_type": "code",
   "execution_count": null,
   "metadata": {},
   "outputs": [],
   "source": [
    "order = 2\n",
    "coeffs, coeff_cov = np.polyfit(recent_indices, log_recent_smooth_cases, order, cov=True)\n",
    "log_case_model = np.poly1d(coeffs)\n",
    "last = recent_indices[-1]\n",
    "future_num = 30\n",
    "future_indices = range(last, last + future_num)"
   ]
  },
  {
   "cell_type": "code",
   "execution_count": null,
   "metadata": {},
   "outputs": [],
   "source": [
    "print(\"polynomial coeffs\", coeffs)\n",
    "print(\"polynomial coeff errs\", np.sqrt(np.diag(coeff_cov)))"
   ]
  },
  {
   "cell_type": "code",
   "execution_count": null,
   "metadata": {},
   "outputs": [],
   "source": [
    "n = len(us_daily_cases)\n",
    "N = n + future_num\n",
    "future_dates = pd.date_range(dates[0], periods=N)\n",
    "future_cases = np.zeros(N, np.float64)\n",
    "future_cases[0:n] = us_daily_cases.rolling(7).mean().fillna(0)\n",
    "future_cases[n:] =  [exp(log_case_model(i)) for i in future_indices]"
   ]
  },
  {
   "cell_type": "code",
   "execution_count": null,
   "metadata": {},
   "outputs": [],
   "source": [
    "fig, ax1 = plt.subplots()\n",
    "ax2 = ax1.twinx()\n",
    "ax1.set_ylabel('daily cases (rolling 7-day average)')\n",
    "ax2.set_ylabel('daily deaths (rolling 7-day average)')\n",
    "\n",
    "start = 250\n",
    "p = ax1.plot(future_dates[n:], future_cases[n:], '.', color='orange', label='assumed future cases')\n",
    "#p = ax1.plot(dates[start:], us_daily_cases.rolling(7).mean()[start:],color='blue', label='observed cases')\n",
    "p = ax1.plot(dates[start:], us_daily_cases.rolling(7).mean()[start:],color='orange', label='observed cases')\n",
    "p = ax2.plot(future_dates[start:], model1(future_cases, popt[0], popt[1], popt[2], popt[3], popt[4], popt[5])[start:], color='red', label='model deaths')\n",
    "p = ax2.plot(dates[start:], us_daily_deaths.rolling(7).mean()[start:], color='blue', label='observed deaths')\n",
    "\n",
    "yl1 = ax1.get_ylim()\n",
    "ax1.set_ylim([0, yl1[1]])\n",
    "\n",
    "yl2 = ax2.get_ylim()\n",
    "ax2.set_ylim([0, yl2[1]])\n",
    "fig.legend();"
   ]
  },
  {
   "cell_type": "code",
   "execution_count": null,
   "metadata": {},
   "outputs": [],
   "source": [
    "states = pd.read_csv('../covid-19-data/us-states.csv', parse_dates=['date'])"
   ]
  },
  {
   "cell_type": "code",
   "execution_count": null,
   "metadata": {},
   "outputs": [],
   "source": [
    "state_deaths = states.pivot(index='date', columns='state', values='deaths')\n",
    "state_cases =  states.pivot(index='date', columns='state', values='cases')\n",
    "all_states = states['state'].unique()\n",
    "all_states.sort()"
   ]
  },
  {
   "cell_type": "code",
   "execution_count": null,
   "metadata": {},
   "outputs": [],
   "source": [
    "norm1 = popt[0]\n",
    "norm2 = popt[1]\n",
    "offset = popt[-1]\n",
    "@jit(nopython=True)\n",
    "def model2(newcases, norm3, norm4, norm5):\n",
    "    global norm1_end, norm2_end, norm3_end, norm4_end, sigma\n",
    "    global norm1, norm2, offset\n",
    "    return full_model(newcases, norm1, norm1_end, norm2, norm2_end, norm3, norm3_end, norm4, norm4_end, norm5, offset, sigma)\n",
    "    "
   ]
  },
  {
   "cell_type": "code",
   "execution_count": null,
   "metadata": {},
   "outputs": [],
   "source": [
    "def state_fit(state, state_cases, state_deaths, plot=True):\n",
    "    daily_cases = state_cases[state].diff().fillna(0)\n",
    "    daily_deaths = state_deaths[state].diff().fillna(0)\n",
    "    sigma = np.ones(len(daily_cases))\n",
    "    sigma[0:150] = 10\n",
    "    popt, pcov = curve_fit(model2, daily_cases.to_numpy(), us_daily_deaths.to_numpy(),\n",
    "            [0.002, 0.002, 0.002], sigma)\n",
    "    if plot:\n",
    "        fig, ax = plt.subplots()\n",
    "        ax.plot(dates, daily_deaths.rolling(7).mean(), color='orange', label='observed deaths')\n",
    "        ax.plot(dates, model2(daily_cases.to_numpy(), *popt), color='red', label='model deaths')\n",
    "        ax.axvspan(dates[0], dates[149], alpha=0.2)\n",
    "        plt.title(\"{state} fatality rate: {percentnorm:0.2f}%\"\n",
    "                  .format(state=state, percentnorm=100*popt[1]))\n",
    "    print(\"{state} fatality rate: {percentnorm:0.2f}%\"\n",
    "          .format(state=state, percentnorm=100*popt[1]))\n",
    "    return popt"
   ]
  },
  {
   "cell_type": "code",
   "execution_count": null,
   "metadata": {},
   "outputs": [],
   "source": [
    "for state in all_states:\n",
    "    state_fit(state, state_cases, state_deaths, False);"
   ]
  },
  {
   "cell_type": "code",
   "execution_count": null,
   "metadata": {},
   "outputs": [],
   "source": [
    "def state_fit_full(state, state_cases, state_deaths, plot=True):\n",
    "    daily_cases = state_cases[state].diff().fillna(0)\n",
    "    dc = np.array(daily_cases)\n",
    "    daily_deaths = state_deaths[state].diff().fillna(0)\n",
    "    dd = np.array(daily_deaths)\n",
    "    sigma = np.ones(len(daily_cases))\n",
    "    sigma[0:150] = 10\n",
    "    popt, pcov = curve_fit(model1, dc, dd, [10, 0.1, 0.1, 0.002, 0.002, 18], sigma)\n",
    "    if plot:\n",
    "        fig, ax = plt.subplots()\n",
    "        ax.plot(dates, daily_deaths.rolling(7).mean(), color='orange', label='observed deaths')\n",
    "        ax.plot(dates, model1(dc, *popt), color='red', label='model deaths')\n",
    "        ax.axvspan(dates[0], dates[149], alpha=0.2)\n",
    "        plt.title(\"{state} fatality rate: {percentnorm:0.2f}%\"\n",
    "                  .format(state=state, percentnorm=100*popt[4]))\n",
    "    print(\"{state} fatality rate: {percentnorm:0.2f}%\"\n",
    "          .format(state=state, percentnorm=100*popt[4]))\n",
    "    print(\"{state} fit: {popt}\".format(state=state, popt=popt))\n",
    "    return popt, pcov"
   ]
  },
  {
   "cell_type": "code",
   "execution_count": null,
   "metadata": {},
   "outputs": [],
   "source": [
    "state_results = {}\n",
    "for state in all_states:\n",
    "    state_results[state] = state_fit_full(state, state_cases, state_deaths, True)"
   ]
  },
  {
   "cell_type": "code",
   "execution_count": null,
   "metadata": {},
   "outputs": [],
   "source": [
    "state_results"
   ]
  },
  {
   "cell_type": "code",
   "execution_count": null,
   "metadata": {},
   "outputs": [],
   "source": [
    "np.linalg.det(state_results['Illinois'][1])"
   ]
  },
  {
   "cell_type": "code",
   "execution_count": null,
   "metadata": {},
   "outputs": [],
   "source": [
    "np.linalg.det(state_results['Michigan'][1])"
   ]
  },
  {
   "cell_type": "code",
   "execution_count": null,
   "metadata": {},
   "outputs": [],
   "source": [
    "states = state_results.keys()\n",
    "for state in states:\n",
    "    p = state_results[state][0]\n",
    "    ratio = p[4]/p[3]\n",
    "    print(f\"{state}: {ratio:0.2f}\")"
   ]
  },
  {
   "cell_type": "code",
   "execution_count": null,
   "metadata": {},
   "outputs": [],
   "source": []
  }
 ],
 "metadata": {
  "interpreter": {
   "hash": "205f7a5d58f44b0441af5263884e7b6264f656d10931f197b7640ca88996085e"
  },
  "kernelspec": {
   "display_name": "Python 3.9.7 64-bit ('base': conda)",
   "name": "python3"
  },
  "language_info": {
   "codemirror_mode": {
    "name": "ipython",
    "version": 3
   },
   "file_extension": ".py",
   "mimetype": "text/x-python",
   "name": "python",
   "nbconvert_exporter": "python",
   "pygments_lexer": "ipython3",
   "version": "3.9.7"
  }
 },
 "nbformat": 4,
 "nbformat_minor": 4
}
